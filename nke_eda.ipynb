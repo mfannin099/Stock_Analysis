{
 "cells": [
  {
   "cell_type": "code",
   "execution_count": null,
   "metadata": {},
   "outputs": [],
   "source": [
    "import yfinance as yf\n",
    "import pandas as pd\n",
    "import numpy as np\n",
    "import seaborn as sns\n",
    "import matplotlib.pyplot as plt\n"
   ]
  },
  {
   "cell_type": "code",
   "execution_count": 3,
   "metadata": {},
   "outputs": [
    {
     "data": {
      "text/html": [
       "<div>\n",
       "<style scoped>\n",
       "    .dataframe tbody tr th:only-of-type {\n",
       "        vertical-align: middle;\n",
       "    }\n",
       "\n",
       "    .dataframe tbody tr th {\n",
       "        vertical-align: top;\n",
       "    }\n",
       "\n",
       "    .dataframe thead th {\n",
       "        text-align: right;\n",
       "    }\n",
       "</style>\n",
       "<table border=\"1\" class=\"dataframe\">\n",
       "  <thead>\n",
       "    <tr style=\"text-align: right;\">\n",
       "      <th></th>\n",
       "      <th>Open</th>\n",
       "      <th>High</th>\n",
       "      <th>Low</th>\n",
       "      <th>Close</th>\n",
       "      <th>Volume</th>\n",
       "      <th>Dividends</th>\n",
       "      <th>Stock Splits</th>\n",
       "    </tr>\n",
       "    <tr>\n",
       "      <th>Date</th>\n",
       "      <th></th>\n",
       "      <th></th>\n",
       "      <th></th>\n",
       "      <th></th>\n",
       "      <th></th>\n",
       "      <th></th>\n",
       "      <th></th>\n",
       "    </tr>\n",
       "  </thead>\n",
       "  <tbody>\n",
       "    <tr>\n",
       "      <th>1980-12-02 00:00:00-05:00</th>\n",
       "      <td>0.125838</td>\n",
       "      <td>0.128573</td>\n",
       "      <td>0.125838</td>\n",
       "      <td>0.125838</td>\n",
       "      <td>100710400</td>\n",
       "      <td>0.0</td>\n",
       "      <td>0.0</td>\n",
       "    </tr>\n",
       "    <tr>\n",
       "      <th>1980-12-03 00:00:00-05:00</th>\n",
       "      <td>0.124469</td>\n",
       "      <td>0.124469</td>\n",
       "      <td>0.123102</td>\n",
       "      <td>0.123102</td>\n",
       "      <td>25177600</td>\n",
       "      <td>0.0</td>\n",
       "      <td>0.0</td>\n",
       "    </tr>\n",
       "    <tr>\n",
       "      <th>1980-12-04 00:00:00-05:00</th>\n",
       "      <td>0.127205</td>\n",
       "      <td>0.128573</td>\n",
       "      <td>0.127205</td>\n",
       "      <td>0.127205</td>\n",
       "      <td>22694400</td>\n",
       "      <td>0.0</td>\n",
       "      <td>0.0</td>\n",
       "    </tr>\n",
       "  </tbody>\n",
       "</table>\n",
       "</div>"
      ],
      "text/plain": [
       "                               Open      High       Low     Close     Volume  \\\n",
       "Date                                                                           \n",
       "1980-12-02 00:00:00-05:00  0.125838  0.128573  0.125838  0.125838  100710400   \n",
       "1980-12-03 00:00:00-05:00  0.124469  0.124469  0.123102  0.123102   25177600   \n",
       "1980-12-04 00:00:00-05:00  0.127205  0.128573  0.127205  0.127205   22694400   \n",
       "\n",
       "                           Dividends  Stock Splits  \n",
       "Date                                                \n",
       "1980-12-02 00:00:00-05:00        0.0           0.0  \n",
       "1980-12-03 00:00:00-05:00        0.0           0.0  \n",
       "1980-12-04 00:00:00-05:00        0.0           0.0  "
      ]
     },
     "execution_count": 3,
     "metadata": {},
     "output_type": "execute_result"
    }
   ],
   "source": [
    "data = yf.Ticker(\"NKE\")\n",
    "# print(data) ## Prints a ticker object\n",
    "# print(data.info)\n",
    "# print(\"--------------------\")\n",
    "# print(\"--------------------\")\n",
    "# print(data.history(period='max')) ## must be of the format 1d, 5d, 1mo, 3mo, 6mo, 1y, 2y, 5y, 10y, ytd, max, etc.\n",
    "\n",
    "nke_df = pd.DataFrame(data.history(period='max'))\n",
    "nke_df.head(3)"
   ]
  },
  {
   "cell_type": "code",
   "execution_count": null,
   "metadata": {},
   "outputs": [],
   "source": [
    "nke_df['Intraday'] = nke_df['Close'] - nke_df['Open']\n",
    "# Calculate Log Returns\n",
    "nke_df['Log Return'] = np.log(nke_df['Close'] / nke_df['Close'].shift(1))"
   ]
  }
 ],
 "metadata": {
  "kernelspec": {
   "display_name": "stocks",
   "language": "python",
   "name": "python3"
  },
  "language_info": {
   "codemirror_mode": {
    "name": "ipython",
    "version": 3
   },
   "file_extension": ".py",
   "mimetype": "text/x-python",
   "name": "python",
   "nbconvert_exporter": "python",
   "pygments_lexer": "ipython3",
   "version": "3.7.9"
  }
 },
 "nbformat": 4,
 "nbformat_minor": 2
}
